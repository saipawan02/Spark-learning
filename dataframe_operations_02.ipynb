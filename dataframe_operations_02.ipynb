{
 "cells": [
  {
   "cell_type": "code",
   "execution_count": 3,
   "metadata": {},
   "outputs": [
    {
     "name": "stderr",
     "output_type": "stream",
     "text": [
      "24/03/03 23:05:42 WARN Utils: Your hostname, Ds-MacBook-Air.local resolves to a loopback address: 127.0.0.1; using 192.168.29.89 instead (on interface en0)\n",
      "24/03/03 23:05:42 WARN Utils: Set SPARK_LOCAL_IP if you need to bind to another address\n",
      "Setting default log level to \"WARN\".\n",
      "To adjust logging level use sc.setLogLevel(newLevel). For SparkR, use setLogLevel(newLevel).\n",
      "24/03/03 23:05:43 WARN NativeCodeLoader: Unable to load native-hadoop library for your platform... using builtin-java classes where applicable\n"
     ]
    },
    {
     "name": "stderr",
     "output_type": "stream",
     "text": [
      "24/03/03 23:05:58 WARN GarbageCollectionMetrics: To enable non-built-in garbage collector(s) List(G1 Concurrent GC), users should configure it(them) to spark.eventLog.gcMetrics.youngGenerationGarbageCollectors or spark.eventLog.gcMetrics.oldGenerationGarbageCollectors\n"
     ]
    }
   ],
   "source": [
    "from pyspark.sql import SparkSession\n",
    "\n",
    "spark = SparkSession.builder.appName('dataframe_operations').getOrCreate()"
   ]
  },
  {
   "cell_type": "markdown",
   "metadata": {},
   "source": [
    "## Row Class in Spark"
   ]
  },
  {
   "cell_type": "code",
   "execution_count": 6,
   "metadata": {},
   "outputs": [
    {
     "name": "stdout",
     "output_type": "stream",
     "text": [
      "sai 2000\n",
      "pawan 4000\n",
      "+-----+------+\n",
      "| name|salary|\n",
      "+-----+------+\n",
      "|  sai|  2000|\n",
      "|pawan|  4000|\n",
      "+-----+------+\n",
      "\n"
     ]
    }
   ],
   "source": [
    "from pyspark.sql import Row\n",
    "\n",
    "row1 = Row(name = 'sai', salary = 2000)\n",
    "print(row1[0], row1[1]) # Rows can be used as tuples \n",
    "\n",
    "row2 = Row(name = 'pawan', salary = 4000)\n",
    "print(row2.name, row2.salary) # Rows can be used as dictonary\n",
    "\n",
    "data = [row1, row2]\n",
    "\n",
    "df = spark.createDataFrame(data)\n",
    "df.show()"
   ]
  },
  {
   "cell_type": "code",
   "execution_count": 7,
   "metadata": {},
   "outputs": [
    {
     "name": "stdout",
     "output_type": "stream",
     "text": [
      "+-----+------+\n",
      "| name|salary|\n",
      "+-----+------+\n",
      "|  sai|  2000|\n",
      "|pawan|  4000|\n",
      "+-----+------+\n",
      "\n"
     ]
    }
   ],
   "source": [
    "# Rows can be created like class\n",
    "\n",
    "Person = Row('name', 'salary')\n",
    "row1 = Person('sai', 2000)\n",
    "row2  = Person('pawan', 4000)\n",
    "\n",
    "data = [row1, row2]\n",
    "df = spark.createDataFrame(data)\n",
    "df.show()\n"
   ]
  },
  {
   "cell_type": "code",
   "execution_count": 9,
   "metadata": {},
   "outputs": [
    {
     "name": "stdout",
     "output_type": "stream",
     "text": [
      "+------------+------+\n",
      "|        name|salary|\n",
      "+------------+------+\n",
      "|{sai, pawan}|  2000|\n",
      "|{pawan, sai}|  3000|\n",
      "+------------+------+\n",
      "\n",
      "root\n",
      " |-- name: struct (nullable = true)\n",
      " |    |-- FirstName: string (nullable = true)\n",
      " |    |-- LastName: string (nullable = true)\n",
      " |-- salary: long (nullable = true)\n",
      "\n"
     ]
    }
   ],
   "source": [
    "data = [\n",
    "    Row(name = Row(FirstName = 'sai', LastName = 'pawan'), salary = 2000 ),\n",
    "    Row(name = Row(FirstName = 'pawan', LastName = 'sai'), salary = 3000)\n",
    "]\n",
    "\n",
    "df = spark.createDataFrame(data)\n",
    "df.show()\n",
    "df.printSchema()"
   ]
  },
  {
   "cell_type": "markdown",
   "metadata": {},
   "source": [
    "## Column Class in Spark"
   ]
  },
  {
   "cell_type": "code",
   "execution_count": 10,
   "metadata": {},
   "outputs": [],
   "source": [
    "from pyspark.sql import Column"
   ]
  },
  {
   "cell_type": "code",
   "execution_count": 13,
   "metadata": {},
   "outputs": [
    {
     "name": "stdout",
     "output_type": "stream",
     "text": [
      "+-----+------+\n",
      "| Name|Salary|\n",
      "+-----+------+\n",
      "|  sai|  2000|\n",
      "|pawan|  4000|\n",
      "+-----+------+\n",
      "\n",
      "+-----+------+------+\n",
      "| Name|Salary|Leaves|\n",
      "+-----+------+------+\n",
      "|  sai|  2000|     0|\n",
      "|pawan|  4000|     0|\n",
      "+-----+------+------+\n",
      "\n"
     ]
    }
   ],
   "source": [
    "from pyspark.sql.functions import lit\n",
    "\n",
    "data = [['sai', 2000], ['pawan', 4000]]\n",
    "schema = ['Name', 'Salary']\n",
    "\n",
    "df = spark.createDataFrame(data, schema)\n",
    "df.show()\n",
    "\n",
    "# Populating the complete column with one value\n",
    "df = df.withColumn('Leaves', lit(0))\n",
    "df.show()"
   ]
  },
  {
   "cell_type": "code",
   "execution_count": 14,
   "metadata": {},
   "outputs": [
    {
     "name": "stdout",
     "output_type": "stream",
     "text": [
      "+-----+\n",
      "| Name|\n",
      "+-----+\n",
      "|  sai|\n",
      "|pawan|\n",
      "+-----+\n",
      "\n",
      "+-----+\n",
      "| Name|\n",
      "+-----+\n",
      "|  sai|\n",
      "|pawan|\n",
      "+-----+\n",
      "\n",
      "+-----+\n",
      "| Name|\n",
      "+-----+\n",
      "|  sai|\n",
      "|pawan|\n",
      "+-----+\n",
      "\n"
     ]
    }
   ],
   "source": [
    "# Different ways to access a column\n",
    "from pyspark.sql.functions import col\n",
    "\n",
    "df.select(df.Name).show()\n",
    "df.select(df['Name']).show()\n",
    "df.select(col('Name')).show()"
   ]
  },
  {
   "cell_type": "code",
   "execution_count": null,
   "metadata": {},
   "outputs": [],
   "source": []
  }
 ],
 "metadata": {
  "kernelspec": {
   "display_name": "big_data_env",
   "language": "python",
   "name": "python3"
  },
  "language_info": {
   "codemirror_mode": {
    "name": "ipython",
    "version": 3
   },
   "file_extension": ".py",
   "mimetype": "text/x-python",
   "name": "python",
   "nbconvert_exporter": "python",
   "pygments_lexer": "ipython3",
   "version": "3.11.8"
  }
 },
 "nbformat": 4,
 "nbformat_minor": 2
}
