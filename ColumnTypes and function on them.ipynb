{
 "cells": [
  {
   "cell_type": "code",
   "execution_count": 1,
   "metadata": {},
   "outputs": [
    {
     "name": "stderr",
     "output_type": "stream",
     "text": [
      "Setting default log level to \"WARN\".\n",
      "To adjust logging level use sc.setLogLevel(newLevel). For SparkR, use setLogLevel(newLevel).\n",
      "24/03/05 22:45:00 WARN NativeCodeLoader: Unable to load native-hadoop library for your platform... using builtin-java classes where applicable\n",
      "24/03/05 22:45:01 WARN Utils: Service 'SparkUI' could not bind on port 4040. Attempting port 4041.\n"
     ]
    }
   ],
   "source": [
    "from pyspark.sql import SparkSession\n",
    "spark  = SparkSession.builder.appName(\"DataFrameOperations\").getOrCreate()"
   ]
  },
  {
   "cell_type": "markdown",
   "metadata": {},
   "source": [
    "# Types in DataFrame"
   ]
  },
  {
   "cell_type": "markdown",
   "metadata": {},
   "source": [
    "### Structure types and Structure fields"
   ]
  },
  {
   "cell_type": "code",
   "execution_count": 3,
   "metadata": {},
   "outputs": [
    {
     "name": "stdout",
     "output_type": "stream",
     "text": [
      "+---+------------+---------+\n",
      "|_id|        Name|   Salary|\n",
      "+---+------------+---------+\n",
      "|  1|{sai, pawan}|    200.4|\n",
      "|  2|  {D, pawan}|2231324.0|\n",
      "+---+------------+---------+\n",
      "\n",
      "root\n",
      " |-- _id: integer (nullable = true)\n",
      " |-- Name: struct (nullable = true)\n",
      " |    |-- FirstName: string (nullable = true)\n",
      " |    |-- LastName: string (nullable = true)\n",
      " |-- Salary: float (nullable = true)\n",
      "\n"
     ]
    }
   ],
   "source": [
    "from pyspark.sql.types import StructType, StructField, IntegerType, StringType, FloatType\n",
    "\n",
    "name_structure = StructType([\n",
    "        StructField(name=\"FirstName\", dataType=StringType()),\n",
    "        StructField(name=\"LastName\", dataType=StringType())\n",
    "    ])\n",
    "\n",
    "data_structure = StructType([\n",
    "    StructField(name=\"_id\", dataType=IntegerType()),\n",
    "    StructField(name=\"Name\", dataType = name_structure),\n",
    "    StructField(name=\"Salary\", dataType=FloatType())\n",
    "])\n",
    "\n",
    "data = [\n",
    "    [1, ('sai', 'pawan'), 200.4],\n",
    "    [2, ('D', 'pawan'), 2231324.0]\n",
    "]\n",
    "\n",
    "df = spark.createDataFrame(data, data_structure)\n",
    "df.show()\n",
    "df.printSchema()\n"
   ]
  },
  {
   "cell_type": "code",
   "execution_count": 3,
   "metadata": {},
   "outputs": [
    {
     "name": "stdout",
     "output_type": "stream",
     "text": [
      "+---+------------+\n",
      "|_id|      Scores|\n",
      "+---+------------+\n",
      "|  1|[20, 40, 50]|\n",
      "|  2|    [10, 51]|\n",
      "+---+------------+\n",
      "\n",
      "root\n",
      " |-- _id: integer (nullable = true)\n",
      " |-- Scores: array (nullable = true)\n",
      " |    |-- element: integer (containsNull = true)\n",
      "\n"
     ]
    }
   ],
   "source": [
    "from pyspark.sql.types import ArrayType\n",
    "from pyspark.sql.types import StructType, StructField, IntegerType, StringType, FloatType\n",
    "\n",
    "data_structure = StructType([\n",
    "    StructField(name=\"_id\", dataType=IntegerType()),\n",
    "    StructField(name=\"Scores\", dataType=ArrayType(elementType=IntegerType())),\n",
    "])\n",
    "\n",
    "data = [\n",
    "    [1, (20, 40, 50)],\n",
    "    [2, (10, 51)]\n",
    "]\n",
    "\n",
    "df = spark.createDataFrame(data, data_structure)\n",
    "\n",
    "df.show()\n",
    "\n",
    "df.printSchema()"
   ]
  },
  {
   "cell_type": "markdown",
   "metadata": {},
   "source": [
    "### Some operation on df using withColumn function for creating or experimenting with arrays."
   ]
  },
  {
   "cell_type": "code",
   "execution_count": 4,
   "metadata": {},
   "outputs": [
    {
     "name": "stdout",
     "output_type": "stream",
     "text": [
      "+---+------------+-------------------+\n",
      "|_id|      Scores|First Array element|\n",
      "+---+------------+-------------------+\n",
      "|  1|[20, 40, 50]|                 20|\n",
      "|  2|    [10, 51]|                 10|\n",
      "+---+------------+-------------------+\n",
      "\n",
      "+---+------------+-------------------+\n",
      "|_id|      Scores|First Array element|\n",
      "+---+------------+-------------------+\n",
      "|  1|[20, 40, 50]|                 20|\n",
      "|  2|    [10, 51]|                 10|\n",
      "+---+------------+-------------------+\n",
      "\n"
     ]
    },
    {
     "ename": "AnalysisException",
     "evalue": "[UNRESOLVED_COLUMN.WITH_SUGGESTION] A column or function parameter with name `Salary` cannot be resolved. Did you mean one of the following? [`_id`, `Scores`].;\n'Project [_id#0, Scores#1, array(Scores#1[0], 'Salary) AS numbers#47]\n+- LogicalRDD [_id#0, Scores#1], false\n",
     "output_type": "error",
     "traceback": [
      "\u001b[0;31m---------------------------------------------------------------------------\u001b[0m",
      "\u001b[0;31mAnalysisException\u001b[0m                         Traceback (most recent call last)",
      "Cell \u001b[0;32mIn[4], line 10\u001b[0m\n\u001b[1;32m      7\u001b[0m df\u001b[38;5;241m.\u001b[39mwithColumn(\u001b[38;5;124m'\u001b[39m\u001b[38;5;124mFirst Array element\u001b[39m\u001b[38;5;124m'\u001b[39m, col\u001b[38;5;241m=\u001b[39mcol(\u001b[38;5;124m'\u001b[39m\u001b[38;5;124mScores\u001b[39m\u001b[38;5;124m'\u001b[39m)[\u001b[38;5;241m0\u001b[39m])\u001b[38;5;241m.\u001b[39mshow()\n\u001b[1;32m      9\u001b[0m \u001b[38;5;66;03m# add the salary to the Socres column's 1st index and name the new column as Numbers\u001b[39;00m\n\u001b[0;32m---> 10\u001b[0m \u001b[43mdf\u001b[49m\u001b[38;5;241;43m.\u001b[39;49m\u001b[43mwithColumn\u001b[49m\u001b[43m(\u001b[49m\u001b[38;5;124;43m\"\u001b[39;49m\u001b[38;5;124;43mnumbers\u001b[39;49m\u001b[38;5;124;43m\"\u001b[39;49m\u001b[43m,\u001b[49m\u001b[43m \u001b[49m\u001b[43mcol\u001b[49m\u001b[38;5;241;43m=\u001b[39;49m\u001b[43m \u001b[49m\u001b[43marray\u001b[49m\u001b[43m(\u001b[49m\u001b[43mcol\u001b[49m\u001b[43m(\u001b[49m\u001b[38;5;124;43m'\u001b[39;49m\u001b[38;5;124;43mScores\u001b[39;49m\u001b[38;5;124;43m'\u001b[39;49m\u001b[43m)\u001b[49m\u001b[43m[\u001b[49m\u001b[38;5;241;43m0\u001b[39;49m\u001b[43m]\u001b[49m\u001b[43m,\u001b[49m\u001b[43m \u001b[49m\u001b[43mcol\u001b[49m\u001b[43m(\u001b[49m\u001b[38;5;124;43m'\u001b[39;49m\u001b[38;5;124;43mSalary\u001b[39;49m\u001b[38;5;124;43m'\u001b[39;49m\u001b[43m)\u001b[49m\u001b[43m)\u001b[49m\u001b[43m)\u001b[49m\u001b[38;5;241m.\u001b[39mshow()\n\u001b[1;32m     12\u001b[0m \u001b[38;5;66;03m# add the salary to the Socres arry and name the new column as Numbers\u001b[39;00m\n\u001b[1;32m     13\u001b[0m df\u001b[38;5;241m.\u001b[39mwithColumn(\u001b[38;5;124m\"\u001b[39m\u001b[38;5;124mnumbers\u001b[39m\u001b[38;5;124m\"\u001b[39m, col\u001b[38;5;241m=\u001b[39m array_append(col(\u001b[38;5;124m'\u001b[39m\u001b[38;5;124mScores\u001b[39m\u001b[38;5;124m'\u001b[39m), col(\u001b[38;5;124m'\u001b[39m\u001b[38;5;124mSalary\u001b[39m\u001b[38;5;124m'\u001b[39m)))\u001b[38;5;241m.\u001b[39mshow()\n",
      "File \u001b[0;32m~/Documents/python-learing/big-data/big_data_env/lib/python3.11/site-packages/pyspark/sql/dataframe.py:5170\u001b[0m, in \u001b[0;36mDataFrame.withColumn\u001b[0;34m(self, colName, col)\u001b[0m\n\u001b[1;32m   5165\u001b[0m \u001b[38;5;28;01mif\u001b[39;00m \u001b[38;5;129;01mnot\u001b[39;00m \u001b[38;5;28misinstance\u001b[39m(col, Column):\n\u001b[1;32m   5166\u001b[0m     \u001b[38;5;28;01mraise\u001b[39;00m PySparkTypeError(\n\u001b[1;32m   5167\u001b[0m         error_class\u001b[38;5;241m=\u001b[39m\u001b[38;5;124m\"\u001b[39m\u001b[38;5;124mNOT_COLUMN\u001b[39m\u001b[38;5;124m\"\u001b[39m,\n\u001b[1;32m   5168\u001b[0m         message_parameters\u001b[38;5;241m=\u001b[39m{\u001b[38;5;124m\"\u001b[39m\u001b[38;5;124marg_name\u001b[39m\u001b[38;5;124m\"\u001b[39m: \u001b[38;5;124m\"\u001b[39m\u001b[38;5;124mcol\u001b[39m\u001b[38;5;124m\"\u001b[39m, \u001b[38;5;124m\"\u001b[39m\u001b[38;5;124marg_type\u001b[39m\u001b[38;5;124m\"\u001b[39m: \u001b[38;5;28mtype\u001b[39m(col)\u001b[38;5;241m.\u001b[39m\u001b[38;5;18m__name__\u001b[39m},\n\u001b[1;32m   5169\u001b[0m     )\n\u001b[0;32m-> 5170\u001b[0m \u001b[38;5;28;01mreturn\u001b[39;00m DataFrame(\u001b[38;5;28;43mself\u001b[39;49m\u001b[38;5;241;43m.\u001b[39;49m\u001b[43m_jdf\u001b[49m\u001b[38;5;241;43m.\u001b[39;49m\u001b[43mwithColumn\u001b[49m\u001b[43m(\u001b[49m\u001b[43mcolName\u001b[49m\u001b[43m,\u001b[49m\u001b[43m \u001b[49m\u001b[43mcol\u001b[49m\u001b[38;5;241;43m.\u001b[39;49m\u001b[43m_jc\u001b[49m\u001b[43m)\u001b[49m, \u001b[38;5;28mself\u001b[39m\u001b[38;5;241m.\u001b[39msparkSession)\n",
      "File \u001b[0;32m~/Documents/python-learing/big-data/big_data_env/lib/python3.11/site-packages/py4j/java_gateway.py:1322\u001b[0m, in \u001b[0;36mJavaMember.__call__\u001b[0;34m(self, *args)\u001b[0m\n\u001b[1;32m   1316\u001b[0m command \u001b[38;5;241m=\u001b[39m proto\u001b[38;5;241m.\u001b[39mCALL_COMMAND_NAME \u001b[38;5;241m+\u001b[39m\\\n\u001b[1;32m   1317\u001b[0m     \u001b[38;5;28mself\u001b[39m\u001b[38;5;241m.\u001b[39mcommand_header \u001b[38;5;241m+\u001b[39m\\\n\u001b[1;32m   1318\u001b[0m     args_command \u001b[38;5;241m+\u001b[39m\\\n\u001b[1;32m   1319\u001b[0m     proto\u001b[38;5;241m.\u001b[39mEND_COMMAND_PART\n\u001b[1;32m   1321\u001b[0m answer \u001b[38;5;241m=\u001b[39m \u001b[38;5;28mself\u001b[39m\u001b[38;5;241m.\u001b[39mgateway_client\u001b[38;5;241m.\u001b[39msend_command(command)\n\u001b[0;32m-> 1322\u001b[0m return_value \u001b[38;5;241m=\u001b[39m \u001b[43mget_return_value\u001b[49m\u001b[43m(\u001b[49m\n\u001b[1;32m   1323\u001b[0m \u001b[43m    \u001b[49m\u001b[43manswer\u001b[49m\u001b[43m,\u001b[49m\u001b[43m \u001b[49m\u001b[38;5;28;43mself\u001b[39;49m\u001b[38;5;241;43m.\u001b[39;49m\u001b[43mgateway_client\u001b[49m\u001b[43m,\u001b[49m\u001b[43m \u001b[49m\u001b[38;5;28;43mself\u001b[39;49m\u001b[38;5;241;43m.\u001b[39;49m\u001b[43mtarget_id\u001b[49m\u001b[43m,\u001b[49m\u001b[43m \u001b[49m\u001b[38;5;28;43mself\u001b[39;49m\u001b[38;5;241;43m.\u001b[39;49m\u001b[43mname\u001b[49m\u001b[43m)\u001b[49m\n\u001b[1;32m   1325\u001b[0m \u001b[38;5;28;01mfor\u001b[39;00m temp_arg \u001b[38;5;129;01min\u001b[39;00m temp_args:\n\u001b[1;32m   1326\u001b[0m     \u001b[38;5;28;01mif\u001b[39;00m \u001b[38;5;28mhasattr\u001b[39m(temp_arg, \u001b[38;5;124m\"\u001b[39m\u001b[38;5;124m_detach\u001b[39m\u001b[38;5;124m\"\u001b[39m):\n",
      "File \u001b[0;32m~/Documents/python-learing/big-data/big_data_env/lib/python3.11/site-packages/pyspark/errors/exceptions/captured.py:185\u001b[0m, in \u001b[0;36mcapture_sql_exception.<locals>.deco\u001b[0;34m(*a, **kw)\u001b[0m\n\u001b[1;32m    181\u001b[0m converted \u001b[38;5;241m=\u001b[39m convert_exception(e\u001b[38;5;241m.\u001b[39mjava_exception)\n\u001b[1;32m    182\u001b[0m \u001b[38;5;28;01mif\u001b[39;00m \u001b[38;5;129;01mnot\u001b[39;00m \u001b[38;5;28misinstance\u001b[39m(converted, UnknownException):\n\u001b[1;32m    183\u001b[0m     \u001b[38;5;66;03m# Hide where the exception came from that shows a non-Pythonic\u001b[39;00m\n\u001b[1;32m    184\u001b[0m     \u001b[38;5;66;03m# JVM exception message.\u001b[39;00m\n\u001b[0;32m--> 185\u001b[0m     \u001b[38;5;28;01mraise\u001b[39;00m converted \u001b[38;5;28;01mfrom\u001b[39;00m \u001b[38;5;28;01mNone\u001b[39;00m\n\u001b[1;32m    186\u001b[0m \u001b[38;5;28;01melse\u001b[39;00m:\n\u001b[1;32m    187\u001b[0m     \u001b[38;5;28;01mraise\u001b[39;00m\n",
      "\u001b[0;31mAnalysisException\u001b[0m: [UNRESOLVED_COLUMN.WITH_SUGGESTION] A column or function parameter with name `Salary` cannot be resolved. Did you mean one of the following? [`_id`, `Scores`].;\n'Project [_id#0, Scores#1, array(Scores#1[0], 'Salary) AS numbers#47]\n+- LogicalRDD [_id#0, Scores#1], false\n"
     ]
    }
   ],
   "source": [
    "from pyspark.sql.functions import col, array, array_append\n",
    "\n",
    "# get the 1st element in above created array as a seperate column.\n",
    "\n",
    "df.withColumn('First Array element', col=df.Scores[0]).show()\n",
    "# This can also be done by\n",
    "df.withColumn('First Array element', col=col('Scores')[0]).show()\n",
    "\n",
    "# add the salary to the Socres column's 1st index and name the new column as Numbers\n",
    "df.withColumn(\"numbers\", col= array(col('Scores')[0], col('Salary'))).show()\n",
    "\n",
    "# add the salary to the Socres arry and name the new column as Numbers\n",
    "df.withColumn(\"numbers\", col= array_append(col('Scores'), col('Salary'))).show()\n"
   ]
  },
  {
   "cell_type": "markdown",
   "metadata": {},
   "source": [
    "### Exploring ArrayType Functions"
   ]
  },
  {
   "cell_type": "code",
   "execution_count": 5,
   "metadata": {},
   "outputs": [
    {
     "name": "stdout",
     "output_type": "stream",
     "text": [
      "+---+------------+-----+\n",
      "|_id|      Scores|Score|\n",
      "+---+------------+-----+\n",
      "|  1|[20, 40, 50]|   20|\n",
      "|  1|[20, 40, 50]|   40|\n",
      "|  1|[20, 40, 50]|   50|\n",
      "|  2|    [10, 51]|   10|\n",
      "|  2|    [10, 51]|   51|\n",
      "+---+------------+-----+\n",
      "\n"
     ]
    }
   ],
   "source": [
    "# Explode function\n",
    "from pyspark.sql.functions import explode, col\n",
    "\n",
    "# Explode function will create new rows with the elements of the array specified in the function parameter.\n",
    "df.withColumn('Score', col=explode(col('Scores'))).show()"
   ]
  },
  {
   "cell_type": "code",
   "execution_count": 7,
   "metadata": {},
   "outputs": [
    {
     "name": "stdout",
     "output_type": "stream",
     "text": [
      "+---+---------+--------+\n",
      "|_id|     name|  salary|\n",
      "+---+---------+--------+\n",
      "|  1|sai,pawan|99314124|\n",
      "|  2|pawan,sai| 3268582|\n",
      "+---+---------+--------+\n",
      "\n",
      "+---+------------+--------+\n",
      "|_id|        name|  salary|\n",
      "+---+------------+--------+\n",
      "|  1|[sai, pawan]|99314124|\n",
      "|  2|[pawan, sai]| 3268582|\n",
      "+---+------------+--------+\n",
      "\n"
     ]
    }
   ],
   "source": [
    "# Split function\n",
    "from pyspark.sql.functions import split, col\n",
    "\n",
    "df = spark.createDataFrame(\n",
    "    [[1, 'sai,pawan', 99314124], [2, 'pawan,sai', 3268582]],\n",
    "    ['_id', 'name', 'salary']\n",
    ")\n",
    "\n",
    "df.show()\n",
    "# This will convert all the ',' seperated names into array of names.\n",
    "df.withColumn('name', col=split(col('name'), ',')).show()\n"
   ]
  },
  {
   "cell_type": "code",
   "execution_count": 8,
   "metadata": {},
   "outputs": [
    {
     "name": "stdout",
     "output_type": "stream",
     "text": [
      "+---+---------+----------+--------+\n",
      "|_id|FirstName|SecondName|  salary|\n",
      "+---+---------+----------+--------+\n",
      "|  1|      sai|     pawan|99314124|\n",
      "|  2|    pawan|       sai| 3268582|\n",
      "+---+---------+----------+--------+\n",
      "\n",
      "+---+---------+----------+--------+------------+\n",
      "|_id|FirstName|SecondName|  salary|        name|\n",
      "+---+---------+----------+--------+------------+\n",
      "|  1|      sai|     pawan|99314124|[sai, pawan]|\n",
      "|  2|    pawan|       sai| 3268582|[pawan, sai]|\n",
      "+---+---------+----------+--------+------------+\n",
      "\n"
     ]
    }
   ],
   "source": [
    "# array function\n",
    "from pyspark.sql.functions import array, col\n",
    "\n",
    "\n",
    "df = spark.createDataFrame(\n",
    "    [[1, 'sai', 'pawan', 99314124], [2, 'pawan', 'sai', 3268582]],\n",
    "    ['_id', 'FirstName', 'SecondName', 'salary']\n",
    ")\n",
    "\n",
    "df.show()\n",
    "\n",
    "# this function will combine two columns into an array. \n",
    "df.withColumn('name', col=array(col('FirstName'), col('SecondName'))).show()"
   ]
  },
  {
   "cell_type": "code",
   "execution_count": 6,
   "metadata": {},
   "outputs": [
    {
     "name": "stdout",
     "output_type": "stream",
     "text": [
      "+---+------------+---------+\n",
      "|_id|      Scores|   Salary|\n",
      "+---+------------+---------+\n",
      "|  1|[20, 40, 50]|    200.4|\n",
      "|  2|    [10, 51]|2231324.0|\n",
      "+---+------------+---------+\n",
      "\n",
      "+---+------------+---------+----------+\n",
      "|_id|      Scores|   Salary|vauleExist|\n",
      "+---+------------+---------+----------+\n",
      "|  1|[20, 40, 50]|    200.4|      true|\n",
      "|  2|    [10, 51]|2231324.0|     false|\n",
      "+---+------------+---------+----------+\n",
      "\n"
     ]
    }
   ],
   "source": [
    "# Array contains function\n",
    "from pyspark.sql.functions import array_contains, col\n",
    "\n",
    "df = spark.createDataFrame(\n",
    "    [[1, [20, 40, 50], 200.4],[2, [10, 51, ], 2231324.0]], \n",
    "    ['_id', 'Scores', 'Salary']    \n",
    ")\n",
    "\n",
    "df.show()\n",
    "\n",
    "# Return a boolean value representing if the values is present in the array.\n",
    "df.withColumn('vauleExist', col = array_contains(col('Scores'), 50)).show()"
   ]
  },
  {
   "cell_type": "markdown",
   "metadata": {},
   "source": [
    "## Map Type columns"
   ]
  },
  {
   "cell_type": "markdown",
   "metadata": {},
   "source": [
    "### Defining maptype columns"
   ]
  },
  {
   "cell_type": "code",
   "execution_count": 10,
   "metadata": {},
   "outputs": [
    {
     "name": "stdout",
     "output_type": "stream",
     "text": [
      "+-----+----------------------------+\n",
      "|name |marks                       |\n",
      "+-----+----------------------------+\n",
      "|sai  |{Science -> 40, Maths -> 20}|\n",
      "|pawan|{Science -> 30, Maths -> 30}|\n",
      "+-----+----------------------------+\n",
      "\n",
      "root\n",
      " |-- name: string (nullable = true)\n",
      " |-- marks: map (nullable = true)\n",
      " |    |-- key: string\n",
      " |    |-- value: integer (valueContainsNull = true)\n",
      "\n"
     ]
    }
   ],
   "source": [
    "from pyspark.sql.types import StructField, StructType, MapType, StringType, IntegerType\n",
    "from pyspark.sql.functions import col\n",
    "\n",
    "\n",
    "data = [['sai', {'Maths': 20, 'Science': 40}], ['pawan', {'Maths':30, 'Science': 30}]]\n",
    "\n",
    "# Defining schema\n",
    "schema = StructType([\n",
    "    StructField(name='name', dataType=StringType()),\n",
    "    StructField(name='marks', dataType=MapType(keyType=StringType(), valueType=IntegerType()))\n",
    "])\n",
    "\n",
    "df =  spark.createDataFrame(data, schema)\n",
    "\n",
    "# Truncate will dilplay all the information.\n",
    "df.show(truncate= False)\n",
    "df.printSchema()"
   ]
  },
  {
   "cell_type": "markdown",
   "metadata": {},
   "source": [
    "### Accessing the map data"
   ]
  },
  {
   "cell_type": "code",
   "execution_count": 11,
   "metadata": {},
   "outputs": [
    {
     "name": "stdout",
     "output_type": "stream",
     "text": [
      "+-----+--------------------+-------+-----+\n",
      "| name|               marks|Science|Maths|\n",
      "+-----+--------------------+-------+-----+\n",
      "|  sai|{Science -> 40, M...|     40|   20|\n",
      "|pawan|{Science -> 30, M...|     30|   30|\n",
      "+-----+--------------------+-------+-----+\n",
      "\n"
     ]
    }
   ],
   "source": [
    "df.withColumn('Science', col = col('marks')['Science']).withColumn('Maths', col = col('marks')['Maths']).show()\n"
   ]
  },
  {
   "cell_type": "markdown",
   "metadata": {},
   "source": [
    "### Exploring fuctions to deal with MapType data."
   ]
  },
  {
   "cell_type": "code",
   "execution_count": 12,
   "metadata": {},
   "outputs": [
    {
     "name": "stdout",
     "output_type": "stream",
     "text": [
      "+-----+-------+-----+\n",
      "|name |key    |value|\n",
      "+-----+-------+-----+\n",
      "|sai  |Science|40   |\n",
      "|sai  |Maths  |20   |\n",
      "|pawan|Science|30   |\n",
      "|pawan|Maths  |30   |\n",
      "+-----+-------+-----+\n",
      "\n"
     ]
    }
   ],
   "source": [
    "# Explode Fucntion.\n",
    "from pyspark.sql.functions import explode\n",
    "\n",
    "# this will create two columns key and values and rows are MapType col's data\n",
    "df.select('name',explode(col=col('marks'))).show(truncate= False)"
   ]
  },
  {
   "cell_type": "code",
   "execution_count": 13,
   "metadata": {},
   "outputs": [
    {
     "name": "stdout",
     "output_type": "stream",
     "text": [
      "+-----+----------------------------+----------------+--------+\n",
      "|name |marks                       |keys            |values  |\n",
      "+-----+----------------------------+----------------+--------+\n",
      "|sai  |{Science -> 40, Maths -> 20}|[Science, Maths]|[40, 20]|\n",
      "|pawan|{Science -> 30, Maths -> 30}|[Science, Maths]|[30, 30]|\n",
      "+-----+----------------------------+----------------+--------+\n",
      "\n"
     ]
    }
   ],
   "source": [
    "# Map keys and Map values\n",
    "from pyspark.sql.functions import map_keys, map_values\n",
    "\n",
    "df.withColumn('keys', map_keys(df.marks)).withColumn('values', map_values(df.marks)).show(truncate = False)"
   ]
  }
 ],
 "metadata": {
  "kernelspec": {
   "display_name": "big_data_env",
   "language": "python",
   "name": "python3"
  },
  "language_info": {
   "codemirror_mode": {
    "name": "ipython",
    "version": 3
   },
   "file_extension": ".py",
   "mimetype": "text/x-python",
   "name": "python",
   "nbconvert_exporter": "python",
   "pygments_lexer": "ipython3",
   "version": "3.11.8"
  }
 },
 "nbformat": 4,
 "nbformat_minor": 2
}
