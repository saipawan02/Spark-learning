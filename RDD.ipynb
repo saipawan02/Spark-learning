{
 "cells": [
  {
   "cell_type": "markdown",
   "metadata": {},
   "source": [
    "# RDD in PySpark"
   ]
  },
  {
   "cell_type": "markdown",
   "metadata": {},
   "source": [
    "Resilient Distributed Dataset"
   ]
  },
  {
   "cell_type": "code",
   "execution_count": 7,
   "metadata": {},
   "outputs": [],
   "source": [
    "from pyspark.sql import SparkSession\n",
    "spark = SparkSession.builder.appName('RDD').getOrCreate()"
   ]
  },
  {
   "cell_type": "code",
   "execution_count": 8,
   "metadata": {},
   "outputs": [
    {
     "name": "stdout",
     "output_type": "stream",
     "text": [
      "[(1, 'sai'), (2, 'pawan')]\n"
     ]
    }
   ],
   "source": [
    "data = [\n",
    "    (1, 'sai'),\n",
    "    (2, 'pawan')\n",
    "]\n",
    "\n",
    "rdd = spark.sparkContext.parallelize(data)\n",
    "print(rdd.collect()) # This will collect the data from all the nodes and display here"
   ]
  },
  {
   "cell_type": "code",
   "execution_count": 9,
   "metadata": {},
   "outputs": [
    {
     "name": "stdout",
     "output_type": "stream",
     "text": [
      "+---+-----+\n",
      "|_id| name|\n",
      "+---+-----+\n",
      "|  1|  sai|\n",
      "|  2|pawan|\n",
      "+---+-----+\n",
      "\n",
      "+---+-----+\n",
      "|_id| name|\n",
      "+---+-----+\n",
      "|  1|  sai|\n",
      "|  2|pawan|\n",
      "+---+-----+\n",
      "\n",
      "[Row(_id=1, name='sai'), Row(_id=2, name='pawan')]\n"
     ]
    }
   ],
   "source": [
    "# Creating the DataFrame from the RDD object.\n",
    "\n",
    "# Method 1\n",
    "df = rdd.toDF(['_id', 'name'])\n",
    "df.show()\n",
    "\n",
    "# Method 2\n",
    "df = spark.createDataFrame(rdd, ['_id', 'name'])\n",
    "df.show()\n",
    "\n",
    "# Converting DataFrame to RDD\n",
    "print(df.rdd.collect())"
   ]
  },
  {
   "cell_type": "markdown",
   "metadata": {},
   "source": [
    "# Map Transformation on RDD objects"
   ]
  },
  {
   "cell_type": "code",
   "execution_count": 10,
   "metadata": {},
   "outputs": [
    {
     "name": "stdout",
     "output_type": "stream",
     "text": [
      "[(1, 'sai', 'pawan', 'saipawan'), (2, 'pawan', 'sai', 'pawansai')]\n",
      "[(1, 'sai', 'pawan', 'saipawan'), (2, 'pawan', 'sai', 'pawansai')]\n"
     ]
    }
   ],
   "source": [
    "data = [\n",
    "    (1, 'sai', 'pawan'),\n",
    "    (2, 'pawan', 'sai')\n",
    "]\n",
    "\n",
    "rdd = spark.sparkContext.parallelize(data)\n",
    "\n",
    "\n",
    "# Using noraml functions\n",
    "def concatinate_name(tuple):\n",
    "    return tuple + (tuple[1] + tuple[2],)\n",
    "print(rdd.map(concatinate_name).collect())\n",
    "\n",
    "# Using Lambda fucntion\n",
    "print(rdd.map(lambda x: x + (x[1] + x[2],)).collect())\n"
   ]
  },
  {
   "cell_type": "markdown",
   "metadata": {},
   "source": [
    "# FlatMap in RDD"
   ]
  },
  {
   "cell_type": "code",
   "execution_count": 11,
   "metadata": {},
   "outputs": [
    {
     "name": "stdout",
     "output_type": "stream",
     "text": [
      "['sai', 'pawan', 'd', 'sai']\n"
     ]
    }
   ],
   "source": [
    "data = ['sai pawan', 'd sai']\n",
    "rdd = spark.sparkContext.parallelize(data)\n",
    "print(rdd.flatMap(lambda x : x.split(' ')).collect())"
   ]
  }
 ],
 "metadata": {
  "kernelspec": {
   "display_name": "big_data_env",
   "language": "python",
   "name": "python3"
  },
  "language_info": {
   "codemirror_mode": {
    "name": "ipython",
    "version": 3
   },
   "file_extension": ".py",
   "mimetype": "text/x-python",
   "name": "python",
   "nbconvert_exporter": "python",
   "pygments_lexer": "ipython3",
   "version": "3.11.8"
  }
 },
 "nbformat": 4,
 "nbformat_minor": 2
}
