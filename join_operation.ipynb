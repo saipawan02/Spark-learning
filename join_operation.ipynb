{
 "cells": [
  {
   "cell_type": "code",
   "execution_count": 1,
   "metadata": {},
   "outputs": [
    {
     "name": "stderr",
     "output_type": "stream",
     "text": [
      "24/03/07 19:11:23 WARN Utils: Your hostname, Ds-MacBook-Air.local resolves to a loopback address: 127.0.0.1; using 192.168.29.89 instead (on interface en0)\n",
      "24/03/07 19:11:23 WARN Utils: Set SPARK_LOCAL_IP if you need to bind to another address\n",
      "Setting default log level to \"WARN\".\n",
      "To adjust logging level use sc.setLogLevel(newLevel). For SparkR, use setLogLevel(newLevel).\n",
      "24/03/07 19:11:23 WARN NativeCodeLoader: Unable to load native-hadoop library for your platform... using builtin-java classes where applicable\n"
     ]
    },
    {
     "name": "stderr",
     "output_type": "stream",
     "text": [
      "24/03/07 19:11:39 WARN GarbageCollectionMetrics: To enable non-built-in garbage collector(s) List(G1 Concurrent GC), users should configure it(them) to spark.eventLog.gcMetrics.youngGenerationGarbageCollectors or spark.eventLog.gcMetrics.oldGenerationGarbageCollectors\n"
     ]
    }
   ],
   "source": [
    "from pyspark.sql import SparkSession\n",
    "\n",
    "spark = SparkSession.builder.appName('Join_operations').getOrCreate()"
   ]
  },
  {
   "cell_type": "code",
   "execution_count": 15,
   "metadata": {},
   "outputs": [
    {
     "name": "stdout",
     "output_type": "stream",
     "text": [
      "+---+--------+------+----------+\n",
      "|_id|    name|salary|department|\n",
      "+---+--------+------+----------+\n",
      "|  1|     sai|  2000|         2|\n",
      "|  3|saipawan|  4000|         1|\n",
      "|  4|  pawand|  5000|         4|\n",
      "+---+--------+------+----------+\n",
      "\n",
      "+---+-----+\n",
      "| id| name|\n",
      "+---+-----+\n",
      "|  1|   IT|\n",
      "|  2|   HR|\n",
      "|  3|Admin|\n",
      "+---+-----+\n",
      "\n"
     ]
    }
   ],
   "source": [
    "data1  = [\n",
    "    [1, 'sai', 2000, 2],\n",
    "    [3, 'saipawan', 4000, 1],\n",
    "    [4, 'pawand', 5000, 4]\n",
    "]\n",
    "schema1 = ['_id', 'name', 'salary', 'department']\n",
    "\n",
    "df1 = spark.createDataFrame(data1, schema1)\n",
    "\n",
    "data2 = [\n",
    "    ['1', 'IT'],\n",
    "    ['2', 'HR'],\n",
    "    ['3', 'Admin']\n",
    "]\n",
    "schema2 = ['id', 'name']\n",
    "\n",
    "df2 = spark.createDataFrame(data2, schema2)\n",
    "\n",
    "df1.show()\n",
    "df2.show()"
   ]
  },
  {
   "cell_type": "code",
   "execution_count": 16,
   "metadata": {},
   "outputs": [
    {
     "name": "stdout",
     "output_type": "stream",
     "text": [
      "+---+--------+------+----------+---+----+\n",
      "|_id|    name|salary|department| id|name|\n",
      "+---+--------+------+----------+---+----+\n",
      "|  3|saipawan|  4000|         1|  1|  IT|\n",
      "|  1|     sai|  2000|         2|  2|  HR|\n",
      "+---+--------+------+----------+---+----+\n",
      "\n"
     ]
    }
   ],
   "source": [
    "# Inner join\n",
    "df1.join(df2, df1.department == df2.id).show()\n",
    "# df1.join(df2, df1.department == df2.id, 'inner').drop(df1.department).drop(df2.id).show()"
   ]
  },
  {
   "cell_type": "code",
   "execution_count": 17,
   "metadata": {},
   "outputs": [
    {
     "name": "stdout",
     "output_type": "stream",
     "text": [
      "+---+--------+------+----------+----+----+\n",
      "|_id|    name|salary|department|  id|name|\n",
      "+---+--------+------+----------+----+----+\n",
      "|  1|     sai|  2000|         2|   2|  HR|\n",
      "|  3|saipawan|  4000|         1|   1|  IT|\n",
      "|  4|  pawand|  5000|         4|NULL|NULL|\n",
      "+---+--------+------+----------+----+----+\n",
      "\n"
     ]
    }
   ],
   "source": [
    "# Left join\n",
    "df1.join(df2, df1.department == df2.id, 'left').show()"
   ]
  },
  {
   "cell_type": "code",
   "execution_count": 19,
   "metadata": {},
   "outputs": [
    {
     "name": "stdout",
     "output_type": "stream",
     "text": [
      "+----+--------+------+----------+---+-----+\n",
      "| _id|    name|salary|department| id| name|\n",
      "+----+--------+------+----------+---+-----+\n",
      "|   3|saipawan|  4000|         1|  1|   IT|\n",
      "|   1|     sai|  2000|         2|  2|   HR|\n",
      "|NULL|    NULL|  NULL|      NULL|  3|Admin|\n",
      "+----+--------+------+----------+---+-----+\n",
      "\n"
     ]
    }
   ],
   "source": [
    "df1.join(df2, df1.department == df2.id, 'right').show()"
   ]
  },
  {
   "cell_type": "code",
   "execution_count": 18,
   "metadata": {},
   "outputs": [
    {
     "name": "stdout",
     "output_type": "stream",
     "text": [
      "+----+--------+------+----------+----+-----+\n",
      "| _id|    name|salary|department|  id| name|\n",
      "+----+--------+------+----------+----+-----+\n",
      "|   3|saipawan|  4000|         1|   1|   IT|\n",
      "|   1|     sai|  2000|         2|   2|   HR|\n",
      "|NULL|    NULL|  NULL|      NULL|   3|Admin|\n",
      "|   4|  pawand|  5000|         4|NULL| NULL|\n",
      "+----+--------+------+----------+----+-----+\n",
      "\n"
     ]
    }
   ],
   "source": [
    "# Outer join or Full Join\n",
    "df1.join(df2, df1.department == df2.id, 'outer').show()"
   ]
  }
 ],
 "metadata": {
  "kernelspec": {
   "display_name": "big_data_env",
   "language": "python",
   "name": "python3"
  },
  "language_info": {
   "codemirror_mode": {
    "name": "ipython",
    "version": 3
   },
   "file_extension": ".py",
   "mimetype": "text/x-python",
   "name": "python",
   "nbconvert_exporter": "python",
   "pygments_lexer": "ipython3",
   "version": "3.11.8"
  }
 },
 "nbformat": 4,
 "nbformat_minor": 2
}
