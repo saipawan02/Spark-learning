{
 "cells": [
  {
   "cell_type": "code",
   "execution_count": 1,
   "metadata": {},
   "outputs": [
    {
     "name": "stderr",
     "output_type": "stream",
     "text": [
      "24/03/04 18:56:21 WARN Utils: Your hostname, Ds-MacBook-Air.local resolves to a loopback address: 127.0.0.1; using 192.168.29.89 instead (on interface en0)\n",
      "24/03/04 18:56:21 WARN Utils: Set SPARK_LOCAL_IP if you need to bind to another address\n",
      "Setting default log level to \"WARN\".\n",
      "To adjust logging level use sc.setLogLevel(newLevel). For SparkR, use setLogLevel(newLevel).\n",
      "24/03/04 18:56:21 WARN NativeCodeLoader: Unable to load native-hadoop library for your platform... using builtin-java classes where applicable\n"
     ]
    }
   ],
   "source": [
    "from pyspark.sql import SparkSession\n",
    "\n",
    "spark = SparkSession.builder.appName('dataframe_operations').getOrCreate()"
   ]
  },
  {
   "cell_type": "markdown",
   "metadata": {},
   "source": [
    "## Row Class in Spark"
   ]
  },
  {
   "cell_type": "code",
   "execution_count": 6,
   "metadata": {},
   "outputs": [
    {
     "name": "stdout",
     "output_type": "stream",
     "text": [
      "sai 2000\n",
      "pawan 4000\n",
      "+-----+------+\n",
      "| name|salary|\n",
      "+-----+------+\n",
      "|  sai|  2000|\n",
      "|pawan|  4000|\n",
      "+-----+------+\n",
      "\n"
     ]
    }
   ],
   "source": [
    "from pyspark.sql import Row\n",
    "\n",
    "row1 = Row(name = 'sai', salary = 2000)\n",
    "print(row1[0], row1[1]) # Rows can be used as tuples \n",
    "\n",
    "row2 = Row(name = 'pawan', salary = 4000)\n",
    "print(row2.name, row2.salary) # Rows can be used as dictonary\n",
    "\n",
    "data = [row1, row2]\n",
    "\n",
    "df = spark.createDataFrame(data)\n",
    "df.show()"
   ]
  },
  {
   "cell_type": "code",
   "execution_count": 7,
   "metadata": {},
   "outputs": [
    {
     "name": "stdout",
     "output_type": "stream",
     "text": [
      "+-----+------+\n",
      "| name|salary|\n",
      "+-----+------+\n",
      "|  sai|  2000|\n",
      "|pawan|  4000|\n",
      "+-----+------+\n",
      "\n"
     ]
    }
   ],
   "source": [
    "# Rows can be created like class\n",
    "Person = Row('name', 'salary')\n",
    "row1 = Person('sai', 2000)\n",
    "row2  = Person('pawan', 4000)\n",
    "\n",
    "data = [row1, row2]\n",
    "df = spark.createDataFrame(data)\n",
    "df.show()"
   ]
  },
  {
   "cell_type": "code",
   "execution_count": 9,
   "metadata": {},
   "outputs": [
    {
     "name": "stdout",
     "output_type": "stream",
     "text": [
      "+------------+------+\n",
      "|        name|salary|\n",
      "+------------+------+\n",
      "|{sai, pawan}|  2000|\n",
      "|{pawan, sai}|  3000|\n",
      "+------------+------+\n",
      "\n",
      "root\n",
      " |-- name: struct (nullable = true)\n",
      " |    |-- FirstName: string (nullable = true)\n",
      " |    |-- LastName: string (nullable = true)\n",
      " |-- salary: long (nullable = true)\n",
      "\n"
     ]
    }
   ],
   "source": [
    "data = [\n",
    "    Row(name = Row(FirstName = 'sai', LastName = 'pawan'), salary = 2000 ),\n",
    "    Row(name = Row(FirstName = 'pawan', LastName = 'sai'), salary = 3000)\n",
    "]\n",
    "\n",
    "df = spark.createDataFrame(data)\n",
    "df.show()\n",
    "df.printSchema()"
   ]
  },
  {
   "cell_type": "markdown",
   "metadata": {},
   "source": [
    "## Column Class in Spark"
   ]
  },
  {
   "cell_type": "code",
   "execution_count": 10,
   "metadata": {},
   "outputs": [],
   "source": [
    "from pyspark.sql import Column"
   ]
  },
  {
   "cell_type": "code",
   "execution_count": 13,
   "metadata": {},
   "outputs": [
    {
     "name": "stdout",
     "output_type": "stream",
     "text": [
      "+-----+------+\n",
      "| Name|Salary|\n",
      "+-----+------+\n",
      "|  sai|  2000|\n",
      "|pawan|  4000|\n",
      "+-----+------+\n",
      "\n",
      "+-----+------+------+\n",
      "| Name|Salary|Leaves|\n",
      "+-----+------+------+\n",
      "|  sai|  2000|     0|\n",
      "|pawan|  4000|     0|\n",
      "+-----+------+------+\n",
      "\n"
     ]
    }
   ],
   "source": [
    "from pyspark.sql.functions import lit\n",
    "\n",
    "data = [['sai', 2000], ['pawan', 4000]]\n",
    "schema = ['Name', 'Salary']\n",
    "\n",
    "df = spark.createDataFrame(data, schema)\n",
    "df.show()\n",
    "\n",
    "# Populating the complete column with one value\n",
    "df = df.withColumn('Leaves', lit(0))\n",
    "df.show()"
   ]
  },
  {
   "cell_type": "code",
   "execution_count": 14,
   "metadata": {},
   "outputs": [
    {
     "name": "stdout",
     "output_type": "stream",
     "text": [
      "+-----+\n",
      "| Name|\n",
      "+-----+\n",
      "|  sai|\n",
      "|pawan|\n",
      "+-----+\n",
      "\n",
      "+-----+\n",
      "| Name|\n",
      "+-----+\n",
      "|  sai|\n",
      "|pawan|\n",
      "+-----+\n",
      "\n",
      "+-----+\n",
      "| Name|\n",
      "+-----+\n",
      "|  sai|\n",
      "|pawan|\n",
      "+-----+\n",
      "\n"
     ]
    }
   ],
   "source": [
    "# Different ways to access a column\n",
    "from pyspark.sql.functions import col\n",
    "\n",
    "df.select(df.Name).show()\n",
    "df.select(df['Name']).show()\n",
    "df.select(col('Name')).show()"
   ]
  },
  {
   "cell_type": "markdown",
   "metadata": {},
   "source": [
    "### Functions to apply on Columns"
   ]
  },
  {
   "cell_type": "code",
   "execution_count": 2,
   "metadata": {},
   "outputs": [
    {
     "name": "stderr",
     "output_type": "stream",
     "text": [
      "                                                                                \r"
     ]
    },
    {
     "name": "stdout",
     "output_type": "stream",
     "text": [
      "+---+-----+------+\n",
      "|_id| name|salary|\n",
      "+---+-----+------+\n",
      "|  1|  sai|  2000|\n",
      "|  2|pawan|  3000|\n",
      "|  3|    d|  4000|\n",
      "+---+-----+------+\n",
      "\n"
     ]
    }
   ],
   "source": [
    "data = [[1, 'sai', 2000], [2, 'pawan', 3000], [3, 'd', 4000]]\n",
    "schema = ['_id', 'name', 'salary']\n",
    "\n",
    "df = spark.createDataFrame(data, schema)\n",
    "df.show()"
   ]
  },
  {
   "cell_type": "code",
   "execution_count": 4,
   "metadata": {},
   "outputs": [
    {
     "name": "stdout",
     "output_type": "stream",
     "text": [
      "+------+--------+----------+\n",
      "|emp_id|emp_name|emp_salary|\n",
      "+------+--------+----------+\n",
      "|     1|     sai|      2000|\n",
      "|     2|   pawan|      3000|\n",
      "|     3|       d|      4000|\n",
      "+------+--------+----------+\n",
      "\n"
     ]
    }
   ],
   "source": [
    "# Alias\n",
    "df.select(df._id.alias('emp_id'), df.name.alias('emp_name'), df.salary.alias('emp_salary')).show()"
   ]
  },
  {
   "cell_type": "code",
   "execution_count": 10,
   "metadata": {},
   "outputs": [
    {
     "name": "stdout",
     "output_type": "stream",
     "text": [
      "+---+-----+------+\n",
      "|_id| name|salary|\n",
      "+---+-----+------+\n",
      "|  3|    d|  4000|\n",
      "|  2|pawan|  3000|\n",
      "|  1|  sai|  2000|\n",
      "+---+-----+------+\n",
      "\n",
      "+---+-----+------+\n",
      "|_id| name|salary|\n",
      "+---+-----+------+\n",
      "|  1|  sai|  2000|\n",
      "|  2|pawan|  3000|\n",
      "|  3|    d|  4000|\n",
      "+---+-----+------+\n",
      "\n"
     ]
    }
   ],
   "source": [
    "# Ascending and decending order\n",
    "df.sort(df.name.asc()).show()\n",
    "df.sort(df.name.desc()).show()"
   ]
  },
  {
   "cell_type": "code",
   "execution_count": 15,
   "metadata": {},
   "outputs": [
    {
     "name": "stdout",
     "output_type": "stream",
     "text": [
      "root\n",
      " |-- _id: long (nullable = true)\n",
      " |-- name: string (nullable = true)\n",
      " |-- salary: long (nullable = true)\n",
      "\n",
      "root\n",
      " |-- _id: long (nullable = true)\n",
      " |-- name: string (nullable = true)\n",
      " |-- salary: integer (nullable = true)\n",
      "\n"
     ]
    }
   ],
   "source": [
    "# Cast function\n",
    "df.printSchema()\n",
    "df.select(df._id, df.name, df.salary.cast('int')).printSchema()"
   ]
  },
  {
   "cell_type": "code",
   "execution_count": 19,
   "metadata": {},
   "outputs": [
    {
     "name": "stdout",
     "output_type": "stream",
     "text": [
      "+---+----+------+\n",
      "|_id|name|salary|\n",
      "+---+----+------+\n",
      "|  1| sai|  2000|\n",
      "+---+----+------+\n",
      "\n",
      "+---+-----+------+-----------+\n",
      "|_id| name|salary|startsWithS|\n",
      "+---+-----+------+-----------+\n",
      "|  1|  sai|  2000|       true|\n",
      "|  2|pawan|  3000|      false|\n",
      "|  3|    d|  4000|      false|\n",
      "+---+-----+------+-----------+\n",
      "\n"
     ]
    }
   ],
   "source": [
    "# like\n",
    "# filter all the data in the df that starts with s\n",
    "df.filter(df.name.like('s%')).show()\n",
    "\n",
    "# Or with this you can create new column with boolean values.\n",
    "df.withColumn('startsWithS',df.name.like('s%')).show()"
   ]
  },
  {
   "cell_type": "markdown",
   "metadata": {},
   "source": [
    "<h1>Some other functions on columns</h1>\n",
    "\n",
    "<img src = 'assets/Column_functions.png' width=\"500\" height=\"600\"/>"
   ]
  },
  {
   "cell_type": "code",
   "execution_count": null,
   "metadata": {},
   "outputs": [],
   "source": []
  }
 ],
 "metadata": {
  "kernelspec": {
   "display_name": "big_data_env",
   "language": "python",
   "name": "python3"
  },
  "language_info": {
   "codemirror_mode": {
    "name": "ipython",
    "version": 3
   },
   "file_extension": ".py",
   "mimetype": "text/x-python",
   "name": "python",
   "nbconvert_exporter": "python",
   "pygments_lexer": "ipython3",
   "version": "3.11.8"
  }
 },
 "nbformat": 4,
 "nbformat_minor": 2
}
